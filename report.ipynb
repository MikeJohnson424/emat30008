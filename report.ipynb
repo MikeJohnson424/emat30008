{
 "cells": [
  {
   "attachments": {},
   "cell_type": "markdown",
   "metadata": {},
   "source": [
    "# EMAT30008 Scientific Computing\n",
    "\n",
    "Michael Johnson - fr19042@bristol.ac.uk - 1962648\n",
    "\n",
    "## Introduction\n",
    "\n",
    "In this report, we will be show casing the capabilities of code written for this unit to solve ODEs and PDEs as well as discussing the design choices and learning process that went along with this project.\n",
    "\n",
    "## Summary of Software\n",
    "\n",
    "First, let's import the required libraries and the functions that have been developed over the course of this project.\n"
   ]
  },
  {
   "cell_type": "code",
   "execution_count": null,
   "metadata": {},
   "outputs": [],
   "source": [
    "from finite_difference import Grid, BoundaryCondition, diffusion_solver, construct_A_and_b\n",
    "from matplotlib.animation import FuncAnimation \n",
    "import plotly.graph_objects as go\n",
    "import matplotlib.pyplot as plt\n",
    "import numpy as np\n",
    "from integrate import solve_to\n",
    "from continuation import continuation\n",
    "from IPython.display import HTML\n",
    "from functions import*\n",
    "from scipy.optimize import root\n",
    "%matplotlib inline"
   ]
  },
  {
   "attachments": {},
   "cell_type": "markdown",
   "metadata": {},
   "source": [
    "The summary of the software should explain the capabilities of your software (e.g., what methods are implemented — there is no need to explain how the methods work) and provide some examples, with results, of it in use. Code samples may be appropriate but they should be short and for the purpose of demonstration only.\n",
    "\n",
    "- solve_to\n",
    "    -> solving ODE problems\n",
    "    -> RK4, forward euler\n",
    "    -> error func thingy?\n",
    "- continuation\n",
    "    -> equilibria as parameter varies\n",
    "    -> limit cycle as parameter varies\n",
    "    -> bratu problem "
   ]
  },
  {
   "attachments": {},
   "cell_type": "markdown",
   "metadata": {},
   "source": [
    "### ODE integration methods\n",
    "\n",
    "-> solve_to function\n",
    "-> euler\n",
    "-> runge-kutta\n",
    "-> error func"
   ]
  },
  {
   "attachments": {},
   "cell_type": "markdown",
   "metadata": {},
   "source": [
    "### ODE BVP solvers\n",
    "\n",
    "-> shooting\n",
    "-> finite difference"
   ]
  },
  {
   "attachments": {},
   "cell_type": "markdown",
   "metadata": {},
   "source": [
    "### PDE Integration methods\n",
    "\n",
    "-> explicit: euler + method of lines\n",
    "-> implicit: euler + crank-nicolson\n",
    "-> IMEX method\n",
    "-> other features: sparse matrix, boundary conditions, initial conditions, source term"
   ]
  },
  {
   "attachments": {},
   "cell_type": "markdown",
   "metadata": {},
   "source": [
    "### Continuation\n",
    "\n",
    "-> pseudo-arclength\n",
    "-> natural parameter"
   ]
  },
  {
   "attachments": {},
   "cell_type": "markdown",
   "metadata": {},
   "source": [
    "KEY SOFTWARE DESIGN DECISIONS (40% of report mark)\n",
    "\n",
    "The key design decisions should be described; explain your thinking behind the overall structure and interfaces of your code. \n",
    "If your code structure is intricate, a block diagram might be appropriate. \n",
    "Why were the solvers implemented as they are? \n",
    "What alternative designs might have been appropriate and why were they not pursued?\n",
    "\n",
    "things to talk about:\n",
    "\n",
    "why did i make the output a class in solve_to function?\n",
    "\n",
    "why all results are from t=0\n",
    "\n",
    "why combine ODEs into a single py file?\n",
    "\n",
    "first two arguments of ODEs to solve must be x,t even when autonomous\n",
    "\n",
    "why of setting up PDE solver means user needs to use BoundaryCondition, Grid functions"
   ]
  },
  {
   "attachments": {},
   "cell_type": "markdown",
   "metadata": {},
   "source": [
    "REFLECTIVE LEARNING LOG (30% of report mark)\n",
    "\n",
    "What did I learn about the mathematical algorithms? I.e., solving boundary value problems, numerical ill-conditioning, etc.\n",
    "\n",
    "What did I learn about software engineering? How have I progressed in my abilities?\n",
    "\n",
    "What are the short-term implications of what I've learnt? (When will it be useful?)\n",
    "\n",
    "What are the long-term implications of what I've learnt? (When will it be useful?)\n",
    "\n",
    "What would I have done differently if I started the unit over again?\n",
    "\n",
    "What will I do differently in the future?"
   ]
  }
 ],
 "metadata": {
  "kernelspec": {
   "display_name": "Python 3",
   "language": "python",
   "name": "python3"
  },
  "language_info": {
   "name": "python",
   "version": "3.10.9"
  },
  "orig_nbformat": 4,
  "vscode": {
   "interpreter": {
    "hash": "b239acf2821489c398a9848859e84ce39b99d30cc4031fb37cc7461da3883639"
   }
  }
 },
 "nbformat": 4,
 "nbformat_minor": 2
}
